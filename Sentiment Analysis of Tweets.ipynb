{
 "cells": [
  {
   "cell_type": "code",
   "execution_count": 8,
   "id": "6cbdd3a4",
   "metadata": {},
   "outputs": [],
   "source": [
    "import pandas as pd\n",
    "import numpy as np\n",
    "import matplotlib.pyplot as plt"
   ]
  },
  {
   "cell_type": "code",
   "execution_count": 5,
   "id": "c5b38523",
   "metadata": {},
   "outputs": [
    {
     "data": {
      "text/html": [
       "<div>\n",
       "<style scoped>\n",
       "    .dataframe tbody tr th:only-of-type {\n",
       "        vertical-align: middle;\n",
       "    }\n",
       "\n",
       "    .dataframe tbody tr th {\n",
       "        vertical-align: top;\n",
       "    }\n",
       "\n",
       "    .dataframe thead th {\n",
       "        text-align: right;\n",
       "    }\n",
       "</style>\n",
       "<table border=\"1\" class=\"dataframe\">\n",
       "  <thead>\n",
       "    <tr style=\"text-align: right;\">\n",
       "      <th></th>\n",
       "      <th>Tweets</th>\n",
       "    </tr>\n",
       "  </thead>\n",
       "  <tbody>\n",
       "    <tr>\n",
       "      <th>0</th>\n",
       "      <td>Hackers galore Also being sued for passed deb...</td>\n",
       "    </tr>\n",
       "    <tr>\n",
       "      <th>1</th>\n",
       "      <td>Hackers galore Also being sued for passed deb...</td>\n",
       "    </tr>\n",
       "    <tr>\n",
       "      <th>2</th>\n",
       "      <td>London England UK  Come rock with ya girl Fri...</td>\n",
       "    </tr>\n",
       "    <tr>\n",
       "      <th>3</th>\n",
       "      <td>NewsAlert  BengaluruVijaywada Indigo flight 6E...</td>\n",
       "    </tr>\n",
       "    <tr>\n",
       "      <th>4</th>\n",
       "      <td>Hackers galore Also being sued for passed debt...</td>\n",
       "    </tr>\n",
       "    <tr>\n",
       "      <th>...</th>\n",
       "      <td>...</td>\n",
       "    </tr>\n",
       "    <tr>\n",
       "      <th>1072</th>\n",
       "      <td>CE WASHED DENIM SHIRT JACKET INDIGO</td>\n",
       "    </tr>\n",
       "    <tr>\n",
       "      <th>1073</th>\n",
       "      <td>Took a flight from Chennai to Hyderabad and fl...</td>\n",
       "    </tr>\n",
       "    <tr>\n",
       "      <th>1074</th>\n",
       "      <td>Our Indigo and Shibori workshop in Lisbon</td>\n",
       "    </tr>\n",
       "    <tr>\n",
       "      <th>1075</th>\n",
       "      <td>A rarity From left to right Aki Indigo Dante a...</td>\n",
       "    </tr>\n",
       "    <tr>\n",
       "      <th>1076</th>\n",
       "      <td>Youngest male cat Indigo and the oldest male c...</td>\n",
       "    </tr>\n",
       "  </tbody>\n",
       "</table>\n",
       "<p>1077 rows × 1 columns</p>\n",
       "</div>"
      ],
      "text/plain": [
       "                                                 Tweets\n",
       "0      Hackers galore Also being sued for passed deb...\n",
       "1      Hackers galore Also being sued for passed deb...\n",
       "2      London England UK  Come rock with ya girl Fri...\n",
       "3     NewsAlert  BengaluruVijaywada Indigo flight 6E...\n",
       "4     Hackers galore Also being sued for passed debt...\n",
       "...                                                 ...\n",
       "1072              CE WASHED DENIM SHIRT JACKET INDIGO  \n",
       "1073  Took a flight from Chennai to Hyderabad and fl...\n",
       "1074         Our Indigo and Shibori workshop in Lisbon \n",
       "1075  A rarity From left to right Aki Indigo Dante a...\n",
       "1076  Youngest male cat Indigo and the oldest male c...\n",
       "\n",
       "[1077 rows x 1 columns]"
      ]
     },
     "execution_count": 5,
     "metadata": {},
     "output_type": "execute_result"
    }
   ],
   "source": [
    "df = pd.read_csv(r'C:\\Users\\DELL\\Downloads\\Tweets.csv')\n",
    "df"
   ]
  },
  {
   "cell_type": "code",
   "execution_count": 6,
   "id": "a27c11e9",
   "metadata": {
    "scrolled": true
   },
   "outputs": [
    {
     "name": "stdout",
     "output_type": "stream",
     "text": [
      "Requirement already satisfied: pandas in c:\\users\\dell\\anaconda3\\lib\\site-packages (1.2.4)\n",
      "Requirement already satisfied: matplotlib in c:\\users\\dell\\anaconda3\\lib\\site-packages (3.3.4)\n",
      "Requirement already satisfied: nltk in c:\\users\\dell\\anaconda3\\lib\\site-packages (3.6.1)\n",
      "Collecting tweepy\n",
      "  Downloading tweepy-4.14.0-py3-none-any.whl (98 kB)\n",
      "Requirement already satisfied: pyparsing!=2.0.4,!=2.1.2,!=2.1.6,>=2.0.3 in c:\\users\\dell\\anaconda3\\lib\\site-packages (from matplotlib) (2.4.7)\n",
      "Requirement already satisfied: python-dateutil>=2.1 in c:\\users\\dell\\anaconda3\\lib\\site-packages (from matplotlib) (2.8.1)\n",
      "Requirement already satisfied: pillow>=6.2.0 in c:\\users\\dell\\anaconda3\\lib\\site-packages (from matplotlib) (8.2.0)\n",
      "Requirement already satisfied: kiwisolver>=1.0.1 in c:\\users\\dell\\anaconda3\\lib\\site-packages (from matplotlib) (1.3.1)\n",
      "Requirement already satisfied: cycler>=0.10 in c:\\users\\dell\\anaconda3\\lib\\site-packages (from matplotlib) (0.10.0)\n",
      "Requirement already satisfied: numpy>=1.15 in c:\\users\\dell\\anaconda3\\lib\\site-packages (from matplotlib) (1.20.1)\n",
      "Requirement already satisfied: six in c:\\users\\dell\\anaconda3\\lib\\site-packages (from cycler>=0.10->matplotlib) (1.15.0)\n",
      "Requirement already satisfied: regex in c:\\users\\dell\\anaconda3\\lib\\site-packages (from nltk) (2021.4.4)\n",
      "Requirement already satisfied: joblib in c:\\users\\dell\\anaconda3\\lib\\site-packages (from nltk) (1.0.1)\n",
      "Requirement already satisfied: tqdm in c:\\users\\dell\\anaconda3\\lib\\site-packages (from nltk) (4.59.0)\n",
      "Requirement already satisfied: click in c:\\users\\dell\\anaconda3\\lib\\site-packages (from nltk) (7.1.2)\n",
      "Requirement already satisfied: pytz>=2017.3 in c:\\users\\dell\\anaconda3\\lib\\site-packages (from pandas) (2021.1)\n",
      "Collecting requests<3,>=2.27.0\n",
      "  Downloading requests-2.31.0-py3-none-any.whl (62 kB)\n",
      "Collecting requests-oauthlib<2,>=1.2.0\n",
      "  Downloading requests_oauthlib-1.3.1-py2.py3-none-any.whl (23 kB)\n",
      "Collecting oauthlib<4,>=3.2.0\n",
      "  Downloading oauthlib-3.2.2-py3-none-any.whl (151 kB)\n",
      "Collecting charset-normalizer<4,>=2\n",
      "  Downloading charset_normalizer-3.3.2-cp38-cp38-win_amd64.whl (99 kB)\n",
      "Requirement already satisfied: certifi>=2017.4.17 in c:\\users\\dell\\anaconda3\\lib\\site-packages (from requests<3,>=2.27.0->tweepy) (2020.12.5)\n",
      "Requirement already satisfied: urllib3<3,>=1.21.1 in c:\\users\\dell\\anaconda3\\lib\\site-packages (from requests<3,>=2.27.0->tweepy) (1.26.4)\n",
      "Requirement already satisfied: idna<4,>=2.5 in c:\\users\\dell\\anaconda3\\lib\\site-packages (from requests<3,>=2.27.0->tweepy) (2.10)\n",
      "Installing collected packages: charset-normalizer, requests, oauthlib, requests-oauthlib, tweepy\n",
      "  Attempting uninstall: requests\n",
      "    Found existing installation: requests 2.25.1\n",
      "    Uninstalling requests-2.25.1:\n",
      "      Successfully uninstalled requests-2.25.1\n",
      "Successfully installed charset-normalizer-3.3.2 oauthlib-3.2.2 requests-2.31.0 requests-oauthlib-1.3.1 tweepy-4.14.0\n",
      "Note: you may need to restart the kernel to use updated packages.\n"
     ]
    },
    {
     "name": "stderr",
     "output_type": "stream",
     "text": [
      "ERROR: pip's dependency resolver does not currently take into account all the packages that are installed. This behaviour is the source of the following dependency conflicts.\n",
      "conda-repo-cli 1.0.4 requires pathlib, which is not installed.\n",
      "anaconda-project 0.9.1 requires ruamel-yaml, which is not installed.\n"
     ]
    }
   ],
   "source": [
    "pip install pandas matplotlib nltk tweepy"
   ]
  },
  {
   "cell_type": "code",
   "execution_count": 7,
   "id": "e722e29e",
   "metadata": {},
   "outputs": [],
   "source": [
    "import pandas as pd\n",
    "import tweepy"
   ]
  },
  {
   "cell_type": "code",
   "execution_count": 48,
   "id": "9e33ec13",
   "metadata": {},
   "outputs": [
    {
     "data": {
      "text/plain": [
       "Tweets    0\n",
       "dtype: int64"
      ]
     },
     "execution_count": 48,
     "metadata": {},
     "output_type": "execute_result"
    }
   ],
   "source": [
    "# Check for missing values\n",
    "df.isnull().sum()"
   ]
  },
  {
   "cell_type": "code",
   "execution_count": 49,
   "id": "2697e459",
   "metadata": {},
   "outputs": [
    {
     "name": "stdout",
     "output_type": "stream",
     "text": [
      "<class 'pandas.core.frame.DataFrame'>\n",
      "RangeIndex: 8 entries, 0 to 7\n",
      "Data columns (total 1 columns):\n",
      " #   Column  Non-Null Count  Dtype \n",
      "---  ------  --------------  ----- \n",
      " 0   Tweets  8 non-null      object\n",
      "dtypes: object(1)\n",
      "memory usage: 192.0+ bytes\n"
     ]
    }
   ],
   "source": [
    "# Display basic information about the DataFrame\n",
    "df.info()"
   ]
  },
  {
   "cell_type": "code",
   "execution_count": 51,
   "id": "8a7749f7",
   "metadata": {},
   "outputs": [
    {
     "data": {
      "text/html": [
       "<div>\n",
       "<style scoped>\n",
       "    .dataframe tbody tr th:only-of-type {\n",
       "        vertical-align: middle;\n",
       "    }\n",
       "\n",
       "    .dataframe tbody tr th {\n",
       "        vertical-align: top;\n",
       "    }\n",
       "\n",
       "    .dataframe thead th {\n",
       "        text-align: right;\n",
       "    }\n",
       "</style>\n",
       "<table border=\"1\" class=\"dataframe\">\n",
       "  <thead>\n",
       "    <tr style=\"text-align: right;\">\n",
       "      <th></th>\n",
       "      <th>Tweets</th>\n",
       "      <th>Indigo</th>\n",
       "    </tr>\n",
       "  </thead>\n",
       "  <tbody>\n",
       "    <tr>\n",
       "      <th>0</th>\n",
       "      <td>Hackers galore Also being sued for passed deb...</td>\n",
       "      <td>Hackers galore Also being sued for passed deb...</td>\n",
       "    </tr>\n",
       "    <tr>\n",
       "      <th>1</th>\n",
       "      <td>London England UK Come rock with ya girl Fri...</td>\n",
       "      <td>London England UK Come rock with ya girl Fri...</td>\n",
       "    </tr>\n",
       "    <tr>\n",
       "      <th>2</th>\n",
       "      <td>NewsAlert BengaluruVijaywada Indigo flight 6E...</td>\n",
       "      <td>NewsAlert BengaluruVijaywada Indigo flight 6E...</td>\n",
       "    </tr>\n",
       "    <tr>\n",
       "      <th>3</th>\n",
       "      <td>CE WASHED DENIM SHIRT JACKET INDIGO</td>\n",
       "      <td>CE WASHED DENIM SHIRT JACKET INDIGO</td>\n",
       "    </tr>\n",
       "    <tr>\n",
       "      <th>4</th>\n",
       "      <td>Took a flight from Chennai to Hyderabad and fl...</td>\n",
       "      <td>Took a flight from Chennai to Hyderabad and fl...</td>\n",
       "    </tr>\n",
       "    <tr>\n",
       "      <th>5</th>\n",
       "      <td>Our Indigo and Shibori workshop in Lisbon</td>\n",
       "      <td>Our Indigo and Shibori workshop in Lisbon</td>\n",
       "    </tr>\n",
       "    <tr>\n",
       "      <th>6</th>\n",
       "      <td>A rarity From left to right Aki Indigo Dante a...</td>\n",
       "      <td>A rarity From left to right Aki Indigo Dante a...</td>\n",
       "    </tr>\n",
       "    <tr>\n",
       "      <th>7</th>\n",
       "      <td>Youngest male cat Indigo and the oldest male c...</td>\n",
       "      <td>Youngest male cat Indigo and the oldest male c...</td>\n",
       "    </tr>\n",
       "  </tbody>\n",
       "</table>\n",
       "</div>"
      ],
      "text/plain": [
       "                                              Tweets  \\\n",
       "0   Hackers galore Also being sued for passed deb...   \n",
       "1    London England UK Come rock with ya girl Fri...   \n",
       "2   NewsAlert BengaluruVijaywada Indigo flight 6E...   \n",
       "3                CE WASHED DENIM SHIRT JACKET INDIGO   \n",
       "4  Took a flight from Chennai to Hyderabad and fl...   \n",
       "5          Our Indigo and Shibori workshop in Lisbon   \n",
       "6  A rarity From left to right Aki Indigo Dante a...   \n",
       "7  Youngest male cat Indigo and the oldest male c...   \n",
       "\n",
       "                                              Indigo  \n",
       "0   Hackers galore Also being sued for passed deb...  \n",
       "1    London England UK Come rock with ya girl Fri...  \n",
       "2   NewsAlert BengaluruVijaywada Indigo flight 6E...  \n",
       "3                CE WASHED DENIM SHIRT JACKET INDIGO  \n",
       "4  Took a flight from Chennai to Hyderabad and fl...  \n",
       "5          Our Indigo and Shibori workshop in Lisbon  \n",
       "6  A rarity From left to right Aki Indigo Dante a...  \n",
       "7  Youngest male cat Indigo and the oldest male c...  "
      ]
     },
     "execution_count": 51,
     "metadata": {},
     "output_type": "execute_result"
    }
   ],
   "source": [
    "df['Indigo'] = df['Tweets'].apply(lambda x: x[0:100])\n",
    "df"
   ]
  },
  {
   "cell_type": "code",
   "execution_count": 15,
   "id": "44a751a7",
   "metadata": {},
   "outputs": [
    {
     "data": {
      "text/plain": [
       "0       ckers g\n",
       "1       ckers g\n",
       "2       ndon En\n",
       "3       sAlert \n",
       "4       kers ga\n",
       "         ...   \n",
       "1072    WASHED \n",
       "1073    k a fli\n",
       "1074    ur Indi\n",
       "1075    arity F\n",
       "1076    ngest m\n",
       "Name: Tweets, Length: 1077, dtype: object"
      ]
     },
     "execution_count": 15,
     "metadata": {},
     "output_type": "execute_result"
    }
   ],
   "source": [
    "df['Tweets'].str.slice(start=3, stop=10)"
   ]
  },
  {
   "cell_type": "code",
   "execution_count": 53,
   "id": "633a6cca",
   "metadata": {},
   "outputs": [
    {
     "name": "stdout",
     "output_type": "stream",
     "text": [
      "Tweet: Hackers galore Also being sued for passed deb...\n",
      "Locations: ['Hackers ', 'Also ']\n",
      "\n",
      "Tweet: London England UK Come rock with ya girl Fri...\n",
      "Locations: ['London England ', 'Come ', 'Fri']\n",
      "\n",
      "Tweet: NewsAlert BengaluruVijaywada Indigo flight 6E...\n",
      "Locations: ['NewsAlert BengaluruVijaywada Indigo ']\n",
      "\n",
      "Tweet: CE WASHED DENIM SHIRT JACKET INDIGO\n",
      "Locations: []\n",
      "\n",
      "Tweet: Took a flight from Chennai to Hyderabad and fl...\n",
      "Locations: ['Took ', 'Chennai ', 'Hyderabad ']\n",
      "\n",
      "Tweet: Our Indigo and Shibori workshop in Lisbon\n",
      "Locations: ['Our Indigo ', 'Shibori ', 'Lisbon']\n",
      "\n",
      "Tweet: A rarity From left to right Aki Indigo Dante a...\n",
      "Locations: ['From ', 'Aki Indigo Dante ']\n",
      "\n",
      "Tweet: Youngest male cat Indigo and the oldest male c...\n",
      "Locations: ['Youngest ', 'Indigo ']\n",
      "\n"
     ]
    }
   ],
   "source": [
    "import re\n",
    "\n",
    "# Sample tweets (replace this with your actual tweet data)\n",
    "tweets = [\n",
    "    \"Hackers galore Also being sued for passed deb...\",\n",
    "    \"London England UK Come rock with ya girl Fri...\",\n",
    "    \"NewsAlert BengaluruVijaywada Indigo flight 6E...\",\n",
    "    \"CE WASHED DENIM SHIRT JACKET INDIGO\",\n",
    "    \"Took a flight from Chennai to Hyderabad and fl...\",\n",
    "    \"Our Indigo and Shibori workshop in Lisbon\",\n",
    "    \"A rarity From left to right Aki Indigo Dante a...\",\n",
    "    \"Youngest male cat Indigo and the oldest male c...\"\n",
    "]\n",
    "\n",
    "# Define a regular expression pattern for extracting locations\n",
    "location_pattern = re.compile(r'\\b(?:[A-Z][a-z]+,?\\s?)+\\b')\n",
    "\n",
    "# Extract countries and states from tweets\n",
    "for tweet in tweets:\n",
    "    locations = location_pattern.findall(tweet)\n",
    "    print(f\"Tweet: {tweet}\\nLocations: {locations}\\n\")\n"
   ]
  },
  {
   "cell_type": "code",
   "execution_count": 55,
   "id": "6b40f057",
   "metadata": {},
   "outputs": [
    {
     "data": {
      "image/png": "[encoded data removed]",
      "text/plain": [
       "<Figure size 432x288 with 1 Axes>"
      ]
     },
     "metadata": {
      "needs_background": "light"
     },
     "output_type": "display_data"
    }
   ],
   "source": [
    "import pandas as pd\n",
    "import matplotlib.pyplot as plt\n",
    "import re\n",
    "from collections import Counter\n",
    "\n",
    "# Sample tweets (replace this with your actual tweet data)\n",
    "tweets = [\n",
    "    \"Hackers galore Also being sued for passed deb...\",\n",
    "    \"London England UK Come rock with ya girl Fri...\",\n",
    "    \"NewsAlert BengaluruVijaywada Indigo flight 6E...\",\n",
    "    \"CE WASHED DENIM SHIRT JACKET INDIGO\",\n",
    "    \"Took a flight from Chennai to Hyderabad and fl...\",\n",
    "    \"Our Indigo and Shibori workshop in Lisbon\",\n",
    "    \"A rarity From left to right Aki Indigo Dante a...\",\n",
    "    \"Youngest male cat Indigo and the oldest male c...\"\n",
    "]\n",
    "\n",
    "# Define a regular expression pattern for extracting locations\n",
    "location_pattern = re.compile(r'\\b(?:[A-Z][a-z]+,?\\s?)+\\b')\n",
    "\n",
    "# Extract countries and states from tweets\n",
    "locations = []\n",
    "for tweet in tweets:\n",
    "    locations.extend(location_pattern.findall(tweet))\n",
    "\n",
    "# Count occurrences of each location\n",
    "location_counts = Counter(locations)\n",
    "\n",
    "# Plot the counts using Matplotlib\n",
    "fig, ax = plt.subplots()\n",
    "countries, counts = zip(*location_counts.items())\n",
    "ax.barh(countries, counts)\n",
    "ax.set_xlabel('Count')\n",
    "ax.set_ylabel('Location')\n",
    "ax.set_title('Counts of Countries and States in Tweets')\n",
    "\n",
    "plt.show()\n"
   ]
  },
  {
   "cell_type": "code",
   "execution_count": 22,
   "id": "09e46390",
   "metadata": {},
   "outputs": [],
   "source": [
    "from collections import Counter"
   ]
  },
  {
   "cell_type": "code",
   "execution_count": 26,
   "id": "3b7e80ee",
   "metadata": {},
   "outputs": [
    {
     "data": {
      "image/png": "[encoded data removed]",
      "text/plain": [
       "<Figure size 432x288 with 1 Axes>"
      ]
     },
     "metadata": {
      "needs_background": "light"
     },
     "output_type": "display_data"
    }
   ],
   "source": [
    "# Plot a histogram of tweet lengths\n",
    "import matplotlib.pyplot as plt\n",
    "\n",
    "# Sample tweets (replace this with your actual tweet data)\n",
    "tweets = [\n",
    "    \"Hackers galore Also being sued for passed deb...\",\n",
    "    \"London England UK Come rock with ya girl Fri...\",\n",
    "    \"NewsAlert BengaluruVijaywada Indigo flight 6E...\",\n",
    "    \"CE WASHED DENIM SHIRT JACKET INDIGO\",\n",
    "    \"Took a flight from Chennai to Hyderabad and fl...\",\n",
    "    \"Our Indigo and Shibori workshop in Lisbon\",\n",
    "    \"A rarity From left to right Aki Indigo Dante a...\",\n",
    "    \"Youngest male cat Indigo and the oldest male c...\"\n",
    "]\n",
    "\n",
    "# Calculate the length of each tweet (number of characters)\n",
    "tweet_lengths = [len(tweet) for tweet in tweets]\n",
    "\n",
    "# Plot a histogram\n",
    "plt.hist(tweet_lengths, bins=20, color='blue', edgecolor='black')\n",
    "plt.xlabel('Tweet Length (Number of Characters)')\n",
    "plt.ylabel('Frequency')\n",
    "plt.title('Histogram of Tweet Lengths')\n",
    "plt.show()\n"
   ]
  },
  {
   "cell_type": "code",
   "execution_count": 25,
   "id": "ad6a9cb3",
   "metadata": {},
   "outputs": [
    {
     "name": "stdout",
     "output_type": "stream",
     "text": [
      "Top 10 most common words:\n",
      "indigo: 5\n",
      "a: 3\n",
      "and: 3\n",
      "flight: 2\n",
      "from: 2\n",
      "to: 2\n",
      "male: 2\n",
      "hackers: 1\n",
      "galore: 1\n",
      "also: 1\n"
     ]
    }
   ],
   "source": [
    "from collections import Counter\n",
    "import re\n",
    "\n",
    "# Sample tweets (replace this with your actual tweet data)\n",
    "tweets = [\n",
    "    \"Hackers galore Also being sued for passed deb...\",\n",
    "    \"London England UK Come rock with ya girl Fri...\",\n",
    "    \"NewsAlert BengaluruVijaywada Indigo flight 6E...\",\n",
    "    \"CE WASHED DENIM SHIRT JACKET INDIGO\",\n",
    "    \"Took a flight from Chennai to Hyderabad and fl...\",\n",
    "    \"Our Indigo and Shibori workshop in Lisbon\",\n",
    "    \"A rarity From left to right Aki Indigo Dante a...\",\n",
    "    \"Youngest male cat Indigo and the oldest male c...\"\n",
    "]\n",
    "\n",
    "# Combine tweets into a single string\n",
    "all_text = ' '.join(tweets)\n",
    "\n",
    "# Remove non-alphanumeric characters and split into words\n",
    "words = re.findall(r'\\b\\w+\\b', all_text.lower())\n",
    "\n",
    "# Count occurrences of each word\n",
    "word_counts = Counter(words)\n",
    "\n",
    "# Print the 10 most common words\n",
    "print(\"Top 10 most common words:\")\n",
    "for word, count in word_counts.most_common(10):\n",
    "    print(f\"{word}: {count}\")\n"
   ]
  },
  {
   "cell_type": "code",
   "execution_count": 27,
   "id": "92302766",
   "metadata": {},
   "outputs": [
    {
     "name": "stdout",
     "output_type": "stream",
     "text": [
      "                                              tweets  tweet_length\n",
      "0   Hackers galore Also being sued for passed deb...            48\n",
      "1    London England UK Come rock with ya girl Fri...            47\n",
      "2   NewsAlert BengaluruVijaywada Indigo flight 6E...            48\n",
      "3                CE WASHED DENIM SHIRT JACKET INDIGO            35\n",
      "4  Took a flight from Chennai to Hyderabad and fl...            49\n",
      "5          Our Indigo and Shibori workshop in Lisbon            41\n",
      "6  A rarity From left to right Aki Indigo Dante a...            49\n",
      "7  Youngest male cat Indigo and the oldest male c...            49\n"
     ]
    }
   ],
   "source": [
    "# Create a new column 'tweet_length' to store the length of each tweet\n",
    "import pandas as pd\n",
    "\n",
    "# Sample DataFrame (replace this with your actual DataFrame)\n",
    "data = {'tweets': [\n",
    "    \"Hackers galore Also being sued for passed deb...\",\n",
    "    \"London England UK Come rock with ya girl Fri...\",\n",
    "    \"NewsAlert BengaluruVijaywada Indigo flight 6E...\",\n",
    "    \"CE WASHED DENIM SHIRT JACKET INDIGO\",\n",
    "    \"Took a flight from Chennai to Hyderabad and fl...\",\n",
    "    \"Our Indigo and Shibori workshop in Lisbon\",\n",
    "    \"A rarity From left to right Aki Indigo Dante a...\",\n",
    "    \"Youngest male cat Indigo and the oldest male c...\"\n",
    "]}\n",
    "\n",
    "df = pd.DataFrame(data)\n",
    "\n",
    "# Create a new column 'tweet_length'\n",
    "df['tweet_length'] = df['tweets'].apply(lambda x: len(x))\n",
    "\n",
    "# Display the DataFrame with the new column\n",
    "print(df)"
   ]
  },
  {
   "cell_type": "code",
   "execution_count": 35,
   "id": "de012d3e",
   "metadata": {},
   "outputs": [
    {
     "name": "stdout",
     "output_type": "stream",
     "text": [
      "           C   D\n",
      "A   B           \n",
      "bar one    2  20\n",
      "    three  4  40\n",
      "    two    6  60\n",
      "foo one    4  80\n",
      "    three  8  80\n",
      "    two    4  80\n"
     ]
    }
   ],
   "source": [
    "# Import necessary library\n",
    "import pandas as pd\n",
    "\n",
    "# Assuming you have a DataFrame 'df'\n",
    "df = pd.DataFrame({\n",
    "    'A': ['foo', 'bar', 'foo', 'bar', 'foo', 'bar', 'foo', 'foo'],\n",
    "    'B': ['one', 'one', 'two', 'three', 'two', 'two', 'one', 'three'],\n",
    "    'C': [1, 2, 3, 4, 5, 6, 7, 8],\n",
    "    'D': [10, 20, 30, 40, 50, 60, 70, 80]\n",
    "})\n",
    "\n",
    "# Group by columns 'A' and 'B', calculate mean of 'C' and sum of 'D' for each group\n",
    "grouped = df.groupby(['A', 'B']).agg({'C': 'mean', 'D': 'sum'})\n",
    "\n",
    "print(grouped)"
   ]
  },
  {
   "cell_type": "code",
   "execution_count": 36,
   "id": "69afbc9f",
   "metadata": {},
   "outputs": [
    {
     "name": "stdout",
     "output_type": "stream",
     "text": [
      "Tweets Mentioning Flights:\n",
      "2    NewsAlert BengaluruVijaywada Indigo flight 6E...\n",
      "Name: Tweets, dtype: object\n"
     ]
    }
   ],
   "source": [
    "import pandas as pd\n",
    "\n",
    "# Sample DataFrame (replace this with your actual DataFrame)\n",
    "data = {'Tweets': [\n",
    "    \"Hackers galore Also being sued for passed deb...\",\n",
    "    \"London England UK Come rock with ya girl Fri...\",\n",
    "    \"NewsAlert BengaluruVijaywada Indigo flight 6E...\",\n",
    "    \"CE WASHED DENIM SHIRT JACKET INDIGO\",\n",
    "    \"Took a flight from Chennai to Hyderabad and fl...\",\n",
    "    \"Our Indigo and Shibori workshop in Lisbon\",\n",
    "    \"A rarity From left to right Aki Indigo Dante a...\",\n",
    "    \"Youngest male cat Indigo and the oldest male c...\"\n",
    "]}\n",
    "\n",
    "df = pd.DataFrame(data)\n",
    "\n",
    "# Filter tweets that mention flights\n",
    "flight_tweets = df[df['Tweets'].str.contains('Indigo flight 6E', case=False, na=False)]\n",
    "\n",
    "# Display the tweets mentioning flights\n",
    "print(\"Tweets Mentioning Flights:\")\n",
    "print(flight_tweets['Tweets'])\n"
   ]
  },
  {
   "cell_type": "code",
   "execution_count": 37,
   "id": "1d21cdec",
   "metadata": {},
   "outputs": [
    {
     "data": {
      "image/png": "[encoded data removed]",
      "text/plain": [
       "<Figure size 720x432 with 1 Axes>"
      ]
     },
     "metadata": {
      "needs_background": "light"
     },
     "output_type": "display_data"
    }
   ],
   "source": [
    "import pandas as pd\n",
    "import matplotlib.pyplot as plt\n",
    "\n",
    "# Sample DataFrame (replace this with your actual DataFrame)\n",
    "data = {'Tweets': [\n",
    "    \"Hackers galore Also being sued for passed deb...\",\n",
    "    \"London England UK Come rock with ya girl Fri...\",\n",
    "    \"NewsAlert BengaluruVijaywada Indigo flight 6E...\",\n",
    "    \"CE WASHED DENIM SHIRT JACKET INDIGO\",\n",
    "    \"Took a flight from Chennai to Hyderabad and fl...\",\n",
    "    \"Our Indigo and Shibori workshop in Lisbon\",\n",
    "    \"A rarity From left to right Aki Indigo Dante a...\",\n",
    "    \"Youngest male cat Indigo and the oldest male c...\"\n",
    "]}\n",
    "\n",
    "df = pd.DataFrame(data)\n",
    "\n",
    "# Create a 'tweet_length' column\n",
    "df['tweet_length'] = df['Tweets'].apply(len)\n",
    "\n",
    "# Create a 'Sentiment' column (replace this with your actual sentiment calculation logic)\n",
    "df['Sentiment'] = 0.5  # Replace with your sentiment calculation logic\n",
    "\n",
    "# Plot a scatter plot\n",
    "plt.figure(figsize=(10, 6))\n",
    "plt.scatter(df['tweet_length'], df['Sentiment'], color='blue', alpha=0.7)\n",
    "plt.title('Scatter Plot of Tweet Length vs. Sentiment')\n",
    "plt.xlabel('Tweet Length (Number of Characters)')\n",
    "plt.ylabel('Sentiment')\n",
    "plt.grid(True)\n",
    "plt.show()\n"
   ]
  },
  {
   "cell_type": "code",
   "execution_count": 40,
   "id": "5a0d78f5",
   "metadata": {},
   "outputs": [
    {
     "name": "stdout",
     "output_type": "stream",
     "text": [
      "                                              Tweets  Sentiment\n",
      "0   Hackers galore Also being sued for passed deb...       -1.0\n",
      "1    London England UK Come rock with ya girl Fri...        0.0\n",
      "2   NewsAlert BengaluruVijaywada Indigo flight 6E...        0.0\n",
      "3                CE WASHED DENIM SHIRT JACKET INDIGO        0.0\n",
      "4  Took a flight from Chennai to Hyderabad and fl...        0.0\n",
      "5          Our Indigo and Shibori workshop in Lisbon        0.0\n",
      "6  A rarity From left to right Aki Indigo Dante a...        0.0\n",
      "7  Youngest male cat Indigo and the oldest male c...        0.0\n"
     ]
    }
   ],
   "source": [
    "import pandas as pd\n",
    "\n",
    "# Sample DataFrame (replace this with your actual DataFrame)\n",
    "data = {'Tweets': [\n",
    "    \"Hackers galore Also being sued for passed deb...\",\n",
    "    \"London England UK Come rock with ya girl Fri...\",\n",
    "    \"NewsAlert BengaluruVijaywada Indigo flight 6E...\",\n",
    "    \"CE WASHED DENIM SHIRT JACKET INDIGO\",\n",
    "    \"Took a flight from Chennai to Hyderabad and fl...\",\n",
    "    \"Our Indigo and Shibori workshop in Lisbon\",\n",
    "    \"A rarity From left to right Aki Indigo Dante a...\",\n",
    "    \"Youngest male cat Indigo and the oldest male c...\"\n",
    "]}\n",
    "\n",
    "df = pd.DataFrame(data)\n",
    "\n",
    "# Create a new column 'Sentiment' using the calculate_sentiment function\n",
    "df['Sentiment'] = df['Tweets'].apply(calculate_sentiment)\n",
    "\n",
    "# Display the DataFrame with the new 'Sentiment' column\n",
    "print(df)\n"
   ]
  },
  {
   "cell_type": "code",
   "execution_count": 44,
   "id": "8f7fb022",
   "metadata": {},
   "outputs": [
    {
     "name": "stdout",
     "output_type": "stream",
     "text": [
      "Requirement already satisfied: transformers in c:\\users\\dell\\anaconda3\\lib\\site-packages (4.35.2)\n",
      "Requirement already satisfied: huggingface-hub<1.0,>=0.16.4 in c:\\users\\dell\\anaconda3\\lib\\site-packages (from transformers) (0.19.4)\n",
      "Requirement already satisfied: tokenizers<0.19,>=0.14 in c:\\users\\dell\\anaconda3\\lib\\site-packages (from transformers) (0.15.0)\n",
      "Requirement already satisfied: filelock in c:\\users\\dell\\anaconda3\\lib\\site-packages (from transformers) (3.0.12)\n",
      "Requirement already satisfied: requests in c:\\users\\dell\\anaconda3\\lib\\site-packages (from transformers) (2.31.0)\n",
      "Requirement already satisfied: safetensors>=0.3.1 in c:\\users\\dell\\anaconda3\\lib\\site-packages (from transformers) (0.4.0)\n",
      "Requirement already satisfied: packaging>=20.0 in c:\\users\\dell\\anaconda3\\lib\\site-packages (from transformers) (20.9)\n",
      "Requirement already satisfied: pyyaml>=5.1 in c:\\users\\dell\\anaconda3\\lib\\site-packages (from transformers) (5.4.1)\n",
      "Requirement already satisfied: numpy>=1.17 in c:\\users\\dell\\anaconda3\\lib\\site-packages (from transformers) (1.20.1)\n",
      "Requirement already satisfied: regex!=2019.12.17 in c:\\users\\dell\\anaconda3\\lib\\site-packages (from transformers) (2021.4.4)\n",
      "Requirement already satisfied: tqdm>=4.27 in c:\\users\\dell\\anaconda3\\lib\\site-packages (from transformers) (4.59.0)\n",
      "Requirement already satisfied: fsspec>=2023.5.0 in c:\\users\\dell\\anaconda3\\lib\\site-packages (from huggingface-hub<1.0,>=0.16.4->transformers) (2023.10.0)\n",
      "Requirement already satisfied: typing-extensions>=3.7.4.3 in c:\\users\\dell\\anaconda3\\lib\\site-packages (from huggingface-hub<1.0,>=0.16.4->transformers) (3.7.4.3)\n",
      "Requirement already satisfied: pyparsing>=2.0.2 in c:\\users\\dell\\anaconda3\\lib\\site-packages (from packaging>=20.0->transformers) (2.4.7)\n",
      "Requirement already satisfied: urllib3<3,>=1.21.1 in c:\\users\\dell\\anaconda3\\lib\\site-packages (from requests->transformers) (1.26.4)\n",
      "Requirement already satisfied: certifi>=2017.4.17 in c:\\users\\dell\\anaconda3\\lib\\site-packages (from requests->transformers) (2020.12.5)\n",
      "Requirement already satisfied: charset-normalizer<4,>=2 in c:\\users\\dell\\anaconda3\\lib\\site-packages (from requests->transformers) (3.3.2)\n",
      "Requirement already satisfied: idna<4,>=2.5 in c:\\users\\dell\\anaconda3\\lib\\site-packages (from requests->transformers) (2.10)\n",
      "Note: you may need to restart the kernel to use updated packages.\n"
     ]
    }
   ],
   "source": [
    "pip install transformers"
   ]
  },
  {
   "cell_type": "code",
   "execution_count": 56,
   "id": "67cd9bf6",
   "metadata": {
    "scrolled": true
   },
   "outputs": [
    {
     "name": "stdout",
     "output_type": "stream",
     "text": [
      "Sentence: I love the new product. It's amazing!\n",
      "Sentiment: Positive\n",
      "\n",
      "Sentence: This movie was terrible. I hated it.\n",
      "Sentiment: Negative\n",
      "\n",
      "Sentence: The weather today is fantastic!\n",
      "Sentiment: Positive\n",
      "\n",
      "Sentence: The service at the restaurant was awful.\n",
      "Sentiment: Negative\n",
      "\n",
      "Sentence: I'm happy with the results of the experiment.\n",
      "Sentiment: Positive\n",
      "\n",
      "Sentence: I can't stand the traffic in this city.\n",
      "Sentiment: Negative\n",
      "\n"
     ]
    }
   ],
   "source": [
    "# Sample sentences (replace this with your actual data)\n",
    "sentences = [\n",
    "    \"I love the new product. It's amazing!\",\n",
    "    \"This movie was terrible. I hated it.\",\n",
    "    \"The weather today is fantastic!\",\n",
    "    \"The service at the restaurant was awful.\",\n",
    "    \"I'm happy with the results of the experiment.\",\n",
    "    \"I can't stand the traffic in this city.\"\n",
    "]\n",
    "\n",
    "# Define positive and negative keywords\n",
    "positive_keywords = ['love', 'amazing', 'fantastic', 'happy']\n",
    "negative_keywords = ['terrible', 'hated', 'awful', 'can\\'t stand']\n",
    "\n",
    "# Classify sentences as positive or negative based on keywords\n",
    "sentiment_labels = []\n",
    "for sentence in sentences:\n",
    "    if any(keyword in sentence.lower() for keyword in positive_keywords):\n",
    "        sentiment_labels.append('Positive')\n",
    "    elif any(keyword in sentence.lower() for keyword in negative_keywords):\n",
    "        sentiment_labels.append('Negative')\n",
    "    else:\n",
    "        sentiment_labels.append('Neutral')\n",
    "\n",
    "# Print the results\n",
    "for sentence, label in zip(sentences, sentiment_labels):\n",
    "    print(f\"Sentence: {sentence}\\nSentiment: {label}\\n\")\n"
   ]
  },
  {
   "cell_type": "code",
   "execution_count": 59,
   "id": "7cf87f1a",
   "metadata": {},
   "outputs": [
    {
     "name": "stdout",
     "output_type": "stream",
     "text": [
      "                                       Sentences Sentiment\n",
      "0          I love the new product. It's amazing!  Positive\n",
      "1           This movie was terrible. I hated it.  Negative\n",
      "2                The weather today is fantastic!  Positive\n",
      "3       The service at the restaurant was awful.  Negative\n",
      "4  I'm happy with the results of the experiment.  Positive\n",
      "5        I can't stand the traffic in this city.  Negative\n"
     ]
    }
   ],
   "source": [
    "import pandas as pd\n",
    "\n",
    "# Sample DataFrame (replace this with your actual DataFrame)\n",
    "data = {'Sentences': [\n",
    "    \"I love the new product. It's amazing!\",\n",
    "    \"This movie was terrible. I hated it.\",\n",
    "    \"The weather today is fantastic!\",\n",
    "    \"The service at the restaurant was awful.\",\n",
    "    \"I'm happy with the results of the experiment.\",\n",
    "    \"I can't stand the traffic in this city.\"\n",
    "]}\n",
    "\n",
    "df = pd.DataFrame(data)\n",
    "\n",
    "# Define positive and negative keywords\n",
    "positive_keywords = ['love', 'amazing', 'fantastic', 'happy']\n",
    "negative_keywords = ['terrible', 'hated', 'awful', 'can\\'t stand']\n",
    "\n",
    "# Create a new column 'Sentiment' using a rule-based approach\n",
    "df['Sentiment'] = df['Sentences'].apply(lambda x: 'Positive' if any(keyword in x.lower() for keyword in positive_keywords) else 'Negative' if any(keyword in x.lower() for keyword in negative_keywords) else 'Neutral')\n",
    "\n",
    "# Display the DataFrame with the new 'Sentiment' column\n",
    "print(df)\n"
   ]
  },
  {
   "cell_type": "code",
   "execution_count": 61,
   "id": "359be7dc",
   "metadata": {},
   "outputs": [
    {
     "data": {
      "image/png": "[encoded data removed]",
      "text/plain": [
       "<Figure size 432x288 with 1 Axes>"
      ]
     },
     "metadata": {},
     "output_type": "display_data"
    }
   ],
   "source": [
    "import pandas as pd\n",
    "import matplotlib.pyplot as plt\n",
    "\n",
    "# Sample DataFrame (replace this with your actual DataFrame)\n",
    "data = {'Sentences': [\n",
    "    \"I love the new product. It's amazing!\",\n",
    "    \"This movie was terrible. I hated it.\",\n",
    "    \"The weather today is fantastic!\",\n",
    "    \"The service at the restaurant was awful.\",\n",
    "    \"I'm happy with the results of the experiment.\",\n",
    "    \"I can't stand the traffic in this city.\"\n",
    "]}\n",
    "\n",
    "df = pd.DataFrame(data)\n",
    "\n",
    "# Define positive and negative keywords\n",
    "positive_keywords = ['love', 'amazing', 'fantastic', 'happy']\n",
    "negative_keywords = ['terrible', 'hated', 'awful', 'can\\'t stand']\n",
    "\n",
    "# Create a new column 'Sentiment' using a rule-based approach\n",
    "df['Sentiment'] = df['Sentences'].apply(lambda x: 'Positive' if any(keyword in x.lower() for keyword in positive_keywords) else 'Negative' if any(keyword in x.lower() for keyword in negative_keywords) else 'Neutral')\n",
    "\n",
    "# Count the occurrences of each sentiment\n",
    "sentiment_counts = df['Sentiment'].value_counts()\n",
    "\n",
    "# Plot the pie chart\n",
    "colors = ['green', 'red', 'yellow']\n",
    "plt.pie(sentiment_counts, labels=sentiment_counts.index, autopct='%1.1f%%', colors=colors, startangle=90)\n",
    "plt.title('Sentiment Distribution')\n",
    "\n",
    "plt.show()\n"
   ]
  },
  {
   "cell_type": "code",
   "execution_count": 64,
   "id": "18605365",
   "metadata": {},
   "outputs": [
    {
     "name": "stdout",
     "output_type": "stream",
     "text": [
      "                                            Sentences Sentiment\n",
      "0               I love the new product. It's amazing!  Positive\n",
      "1                This movie was terrible. I hated it.  Negative\n",
      "2                     The weather today is fantastic!  Positive\n",
      "3            The service at the restaurant was awful.  Negative\n",
      "4       I'm happy with the results of the experiment.  Positive\n",
      "5             I can't stand the traffic in this city.  Negative\n",
      "6   With the singer himself O2 Indigo London was R...   Neutral\n",
      "7   Exactly how are parents who don't English amp ...   Neutral\n",
      "8   Stunning indigo from my dear and very talented...   Neutral\n",
      "9   Are you looking forward to Easter weekend? Cho...   Neutral\n",
      "10  Are you following the Canada Reads debates? Pi...   Neutral\n",
      "11  Air hostesses on Indigo airlines from Vizag to...   Neutral\n",
      "12  We love the Opula range from Utopia. It is fea...  Positive\n",
      "13  Indigo, when will you seriously arrive at the ...   Neutral\n",
      "14  Will proceed with our 3rd case of Mechanical P...   Neutral\n",
      "15  We love the Opula range from Utopia. It is fea...  Positive\n",
      "16  Great to have this lovely two from the foragin...  Positive\n",
      "17     Today's delicious buffet - yummy indigo buffet   Neutral\n",
      "18  London England UK Come rock with ya girl Frida...   Neutral\n",
      "19  This ethereal blue and gold upcycled indigo si...   Neutral\n",
      "20  London England UK Come rock with ya girl Frida...   Neutral\n",
      "21  Look who is reading my book YATeenager FiveSta...   Neutral\n",
      "22  This ethereal blue and gold upcycled indigo si...   Neutral\n"
     ]
    },
    {
     "data": {
      "image/png": "[encoded data removed]",
      "text/plain": [
       "<Figure size 432x288 with 1 Axes>"
      ]
     },
     "metadata": {},
     "output_type": "display_data"
    }
   ],
   "source": [
    "import pandas as pd\n",
    "import matplotlib.pyplot as plt\n",
    "\n",
    "# Sample DataFrame (replace this with your actual DataFrame)\n",
    "data = {'Sentences': [\n",
    "    \"I love the new product. It's amazing!\",\n",
    "    \"This movie was terrible. I hated it.\",\n",
    "    \"The weather today is fantastic!\",\n",
    "    \"The service at the restaurant was awful.\",\n",
    "    \"I'm happy with the results of the experiment.\",\n",
    "    \"I can't stand the traffic in this city.\",\n",
    "    \"With the singer himself O2 Indigo London was ROCKING\",\n",
    "    \"Exactly how are parents who don't English amp Hindi can save their lives in case of emergency indigo spicejet\",\n",
    "    \"Stunning indigo from my dear and very talented friend check her work out if you haven't already\",\n",
    "    \"Are you looking forward to Easter weekend? Chocolate, plush bunnies, kids' books, and more - we've got everything\",\n",
    "    \"Are you following the Canada Reads debates? Pick up all of the shortlist books in our store and choose One Book to\",\n",
    "    \"Air hostesses on Indigo airlines from Vizag to Chennai can speak Hindi, Assamese, and Bengali\",\n",
    "    \"We love the Opula range from Utopia. It is featured in our showroom with a Genuine Grey wood-like tile on the wall\",\n",
    "    \"Indigo, when will you seriously arrive at the customer service front? Tired before the journey can begin\",\n",
    "    \"Will proceed with our 3rd case of Mechanical Pulmonary Thrombectomy using the Indigo system from shortly\",\n",
    "    \"We love the Opula range from Utopia. It is featured in our showroom with a Genuine Grey wood-like tile on the wall\",\n",
    "    \"Great to have this lovely two from the foraging plant dyes in the studio xxx\",\n",
    "    \"Today's delicious buffet - yummy indigo buffet\",\n",
    "    \"London England UK Come rock with ya girl Friday, March 30th for the Indigo OfficialAfterParty De\",\n",
    "    \"This ethereal blue and gold upcycled indigo silk scarf is on its way to a lucky buyer in France but plenty of others in m\",\n",
    "    \"London England UK Come rock with ya girl Friday, March 30th for the Indigo OfficialAfterParty De\",\n",
    "    \"Look who is reading my book YATeenager FiveStar Series Part 1 DEATH indigo\",\n",
    "    \"This ethereal blue and gold upcycled indigo silk scarf is on its way to a lucky buyer in France but plenty of ot\"\n",
    "]}\n",
    "\n",
    "df = pd.DataFrame(data)\n",
    "\n",
    "# Define positive and negative keywords\n",
    "positive_keywords = ['love', 'amazing', 'fantastic', 'happy']\n",
    "negative_keywords = ['terrible', 'hated', 'awful', 'can\\'t stand']\n",
    "\n",
    "# Create a new column 'Sentiment' using a rule-based approach\n",
    "df['Sentiment'] = df['Sentences'].apply(lambda x: 'Positive' if any(keyword in x.lower() for keyword in positive_keywords) else 'Negative' if any(keyword in x.lower() for keyword in negative_keywords) else 'Neutral')\n",
    "\n",
    "# Display the DataFrame with the new 'Sentiment' column\n",
    "print(df)\n",
    "\n",
    "# Count the occurrences of each sentiment\n",
    "sentiment_counts = df['Sentiment'].value_counts()\n",
    "\n",
    "# Plot the pie chart\n",
    "colors = ['green', 'red', 'yellow']\n",
    "plt.pie(sentiment_counts, labels=sentiment_counts.index, autopct='%1.1f%%', colors=colors, startangle=90)\n",
    "plt.title('Sentiment Distribution')\n",
    "plt.show()\n"
   ]
  }
 ],
 "metadata": {
  "kernelspec": {
   "display_name": "Python 3 (ipykernel)",
   "language": "python",
   "name": "python3"
  },
  "language_info": {
   "codemirror_mode": {
    "name": "ipython",
    "version": 3
   },
   "file_extension": ".py",
   "mimetype": "text/x-python",
   "name": "python",
   "nbconvert_exporter": "python",
   "pygments_lexer": "ipython3",
   "version": "3.11.5"
  }
 },
 "nbformat": 4,
 "nbformat_minor": 5
}
